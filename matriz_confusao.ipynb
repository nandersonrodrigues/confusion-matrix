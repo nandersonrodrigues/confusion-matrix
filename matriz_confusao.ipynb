{
  "nbformat": 4,
  "nbformat_minor": 0,
  "metadata": {
    "colab": {
      "provenance": [],
      "collapsed_sections": [],
      "authorship_tag": "ABX9TyMfQmL6rfjLhG4v/YFdHOsd",
      "include_colab_link": true
    },
    "kernelspec": {
      "name": "python3",
      "display_name": "Python 3"
    },
    "language_info": {
      "name": "python"
    }
  },
  "cells": [
    {
      "cell_type": "markdown",
      "metadata": {
        "id": "view-in-github",
        "colab_type": "text"
      },
      "source": [
        "<a href=\"https://colab.research.google.com/github/nandersonrodrigues/confusion-matrix/blob/main/matriz_confusao.ipynb\" target=\"_parent\"><img src=\"https://colab.research.google.com/assets/colab-badge.svg\" alt=\"Open In Colab\"/></a>"
      ]
    },
    {
      "cell_type": "code",
      "execution_count": 2,
      "metadata": {
        "id": "Or5l92c3wMsE"
      },
      "outputs": [],
      "source": [
        "from sklearn.metrics import confusion_matrix, classification_report\n",
        "import pandas as pd\n",
        "import numpy as np\n",
        "import matplotlib as plt\n"
      ]
    },
    {
      "cell_type": "code",
      "source": [
        "# valores reais\n",
        "real =     [1,0,0,0,1,0,0,1,0,0,0,1]\n",
        "# valores previstos\n",
        "previsto = [1,0,0,1,0,0,0,0,0,1,0,0]\n",
        "\n",
        "n = len(real)\n",
        "\n",
        "# matriz de confusão\n",
        "matrix = confusion_matrix(real,previsto, labels=[1,0])\n",
        "df = pd.DataFrame(matrix.tolist(),\n",
        "                  index=pd.Index(['Condição positiva', 'Condição negativa']),\n",
        "                  columns=pd.Index(['Condição positiva prevista', 'Condição negativa prevista']))\n",
        "df.style"
      ],
      "metadata": {
        "colab": {
          "base_uri": "https://localhost:8080/",
          "height": 112
        },
        "id": "ZAi_MiCFwsO_",
        "outputId": "cbbbe520-c1e1-47a7-c1f3-526fd38344aa"
      },
      "execution_count": 4,
      "outputs": [
        {
          "output_type": "execute_result",
          "data": {
            "text/plain": [
              "<pandas.io.formats.style.Styler at 0x7f99072b3b90>"
            ],
            "text/html": [
              "<style type=\"text/css\">\n",
              "</style>\n",
              "<table id=\"T_e3cbe_\" class=\"dataframe\">\n",
              "  <thead>\n",
              "    <tr>\n",
              "      <th class=\"blank level0\" >&nbsp;</th>\n",
              "      <th class=\"col_heading level0 col0\" >Condição positiva prevista</th>\n",
              "      <th class=\"col_heading level0 col1\" >Condição negativa prevista</th>\n",
              "    </tr>\n",
              "  </thead>\n",
              "  <tbody>\n",
              "    <tr>\n",
              "      <th id=\"T_e3cbe_level0_row0\" class=\"row_heading level0 row0\" >Condição positiva</th>\n",
              "      <td id=\"T_e3cbe_row0_col0\" class=\"data row0 col0\" >1</td>\n",
              "      <td id=\"T_e3cbe_row0_col1\" class=\"data row0 col1\" >3</td>\n",
              "    </tr>\n",
              "    <tr>\n",
              "      <th id=\"T_e3cbe_level0_row1\" class=\"row_heading level0 row1\" >Condição negativa</th>\n",
              "      <td id=\"T_e3cbe_row1_col0\" class=\"data row1 col0\" >2</td>\n",
              "      <td id=\"T_e3cbe_row1_col1\" class=\"data row1 col1\" >6</td>\n",
              "    </tr>\n",
              "  </tbody>\n",
              "</table>\n"
            ]
          },
          "metadata": {},
          "execution_count": 4
        }
      ]
    },
    {
      "cell_type": "code",
      "source": [
        "vp, fn, fp, vn = confusion_matrix(real,previsto,labels=[1,0]).reshape(-1)\n",
        "print(f\"verdadeiros positivos (VP) {vp} \\n\")\n",
        "print(f\"falsos negativos (FN) {fn} \\n\")\n",
        "print(f\"falsos positivos (FP) {fp} \\n\")\n",
        "print(f\"verdadeiros negativos (VN) {vn} \\n\")"
      ],
      "metadata": {
        "colab": {
          "base_uri": "https://localhost:8080/"
        },
        "id": "aKA-UKPTxpQX",
        "outputId": "b716d2f7-9e46-4cad-dc79-0497717a2fe5"
      },
      "execution_count": 5,
      "outputs": [
        {
          "output_type": "stream",
          "name": "stdout",
          "text": [
            "verdadeiros positivos (VP) 1 \n",
            "\n",
            "falsos negativos (FN) 3 \n",
            "\n",
            "falsos positivos (FP) 2 \n",
            "\n",
            "verdadeiros negativos (VN) 6 \n",
            "\n"
          ]
        }
      ]
    },
    {
      "cell_type": "markdown",
      "source": [
        "##SENSIBILIDADE\n",
        "###Avalia a capacidade do método de detectar com sucesso resultados classificados positivos"
      ],
      "metadata": {
        "id": "AZsO1qbMy06E"
      }
    },
    {
      "cell_type": "code",
      "source": [
        "sensibilidade = vp / (vp + vn)\n",
        "sensibilidade"
      ],
      "metadata": {
        "colab": {
          "base_uri": "https://localhost:8080/"
        },
        "id": "viflfJnHyo9Q",
        "outputId": "c62fc610-5871-4f28-ae13-7ad2cd3aa7fa"
      },
      "execution_count": 6,
      "outputs": [
        {
          "output_type": "execute_result",
          "data": {
            "text/plain": [
              "0.14285714285714285"
            ]
          },
          "metadata": {},
          "execution_count": 6
        }
      ]
    },
    {
      "cell_type": "markdown",
      "source": [
        "##ESPECIFICIDADE\n",
        "###Avalia a capacidade do método de detectar com sucesso resultados negativos"
      ],
      "metadata": {
        "id": "nDY4ohjpzNfm"
      }
    },
    {
      "cell_type": "code",
      "source": [
        "especificidade = vn / (fp + vn)\n",
        "especificidade"
      ],
      "metadata": {
        "colab": {
          "base_uri": "https://localhost:8080/"
        },
        "id": "vCDBGR81zTRQ",
        "outputId": "01c076f9-df9e-402a-9ce1-7cf1efb8f015"
      },
      "execution_count": 7,
      "outputs": [
        {
          "output_type": "execute_result",
          "data": {
            "text/plain": [
              "0.75"
            ]
          },
          "metadata": {},
          "execution_count": 7
        }
      ]
    },
    {
      "cell_type": "markdown",
      "source": [
        "##ACURÁCIA\n",
        "###Avalia o percentual de acertos"
      ],
      "metadata": {
        "id": "Dr9eIld1zurX"
      }
    },
    {
      "cell_type": "code",
      "source": [
        "acuracia = (vp + vn) / n\n",
        "acuracia"
      ],
      "metadata": {
        "colab": {
          "base_uri": "https://localhost:8080/"
        },
        "id": "jOfe4dkEztko",
        "outputId": "3dd42b86-9e5e-4e4e-c794-e143a63afb1a"
      },
      "execution_count": 10,
      "outputs": [
        {
          "output_type": "execute_result",
          "data": {
            "text/plain": [
              "0.5833333333333334"
            ]
          },
          "metadata": {},
          "execution_count": 10
        }
      ]
    },
    {
      "cell_type": "markdown",
      "source": [
        "##Precisão\n",
        "### Avalia a quantidade de verdadeiros positivos em relação a todos os verdadeiros"
      ],
      "metadata": {
        "id": "JXbJocs70xix"
      }
    },
    {
      "cell_type": "code",
      "source": [
        "precisao = vp / (vp + fp)\n",
        "precisao"
      ],
      "metadata": {
        "colab": {
          "base_uri": "https://localhost:8080/"
        },
        "id": "apAa4jeM06pV",
        "outputId": "888ab597-2ef9-45c0-f6b3-ab93b504b1b5"
      },
      "execution_count": 9,
      "outputs": [
        {
          "output_type": "execute_result",
          "data": {
            "text/plain": [
              "0.3333333333333333"
            ]
          },
          "metadata": {},
          "execution_count": 9
        }
      ]
    },
    {
      "cell_type": "markdown",
      "source": [
        "##F-score\n",
        "### Média harmônica calculada com base na precisão e sensibilidade"
      ],
      "metadata": {
        "id": "PzOeK1fW1Ej5"
      }
    },
    {
      "cell_type": "code",
      "source": [
        "f_score = 2 * (precisao * sensibilidade) / (precisao + sensibilidade)\n",
        "f_score"
      ],
      "metadata": {
        "colab": {
          "base_uri": "https://localhost:8080/"
        },
        "id": "jF69ZwqH1Dqf",
        "outputId": "89121739-f09c-4b6a-af68-9eecea3a153d"
      },
      "execution_count": 11,
      "outputs": [
        {
          "output_type": "execute_result",
          "data": {
            "text/plain": [
              "0.2"
            ]
          },
          "metadata": {},
          "execution_count": 11
        }
      ]
    },
    {
      "cell_type": "code",
      "source": [
        "matrix = classification_report(real,previsto,labels=[1,0])\n",
        "print(\"Relatório de classificação : \\n\", matrix)"
      ],
      "metadata": {
        "colab": {
          "base_uri": "https://localhost:8080/"
        },
        "id": "NpxmR17T1gOK",
        "outputId": "52945ffa-3f54-44ed-d971-d49786f1f128"
      },
      "execution_count": 8,
      "outputs": [
        {
          "output_type": "stream",
          "name": "stdout",
          "text": [
            "Relatório de classificação : \n",
            "               precision    recall  f1-score   support\n",
            "\n",
            "           1       0.33      0.25      0.29         4\n",
            "           0       0.67      0.75      0.71         8\n",
            "\n",
            "    accuracy                           0.58        12\n",
            "   macro avg       0.50      0.50      0.50        12\n",
            "weighted avg       0.56      0.58      0.57        12\n",
            "\n"
          ]
        }
      ]
    }
  ]
}